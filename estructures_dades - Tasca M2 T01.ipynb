{
 "cells": [
  {
   "cell_type": "code",
   "execution_count": 16,
   "id": "6e38a6c2",
   "metadata": {},
   "outputs": [
    {
     "name": "stdout",
     "output_type": "stream",
     "text": [
      "[['enero', 'febrero', 'marzo'], ['abril', 'mayo', 'junio'], ['julio', 'agosto', 'septiembre'], ['octubre', 'noviembre', 'diciembre']]\n"
     ]
    }
   ],
   "source": [
    "#Ejercicio 1\n",
    "\n",
    "#Creamos una lista de trimestres y los clasificamos en los 4 que tiene un año.\n",
    "trimestres = [\n",
    "    ['enero', 'febrero', 'marzo'],    # 1T\n",
    "    ['abril', 'mayo', 'junio'],      # 2T\n",
    "    ['julio', 'agosto', 'septiembre'], # 3T\n",
    "    ['octubre', 'noviembre', 'diciembre']  # 4T\n",
    "]\n",
    "\n",
    "# Asignamos los trimestres a un número para poder acceder a ellos más fácilmente.\n",
    "primer_trimestre = trimestres[0]\n",
    "segundo_trimestre = trimestres[1]\n",
    "tercero_trimestre = trimestres[2]\n",
    "cuarto_trimestre = trimestres[3]\n",
    "\n",
    "# EL primer indice nos indica el trimestre que queremos acceder y el segundo indice el mes. Aclarar que dentro de cada\n",
    "#trimestre solo los meses se clasifican de 0 1 2. Pongamos que cogemos 2ºtrimestre sería 0=abril, 1=mayo y 2=junio.\n",
    "enero = trimestres[0][0]\n",
    "Junio = trimestres[1][2]\n",
    "marzo = trimestres[0][2]\n",
    "\n",
    "#Ejecutamos la opción print para ver la lista. \n",
    "print(trimestres)\n"
   ]
  },
  {
   "cell_type": "code",
   "execution_count": 19,
   "id": "2a59d187",
   "metadata": {},
   "outputs": [
    {
     "name": "stdout",
     "output_type": "stream",
     "text": [
      "El segundo mes del primer trimestre es: febrero\n",
      "Los meses del primer trimestre son: ['enero', 'febrero', 'marzo']\n",
      "Septiembre y octubre son: septiembre y octubre\n"
     ]
    }
   ],
   "source": [
    "#Ejercicio 2\n",
    "# Replicamos la idea inicial del anterior ejercicio.\n",
    "trimestres = [\n",
    "    ['enero', 'febrero', 'marzo'],    # 1T\n",
    "    ['abril', 'mayo', 'junio'],      # 2T\n",
    "    ['julio', 'agosto', 'septiembre'], # 3T\n",
    "    ['octubre', 'noviembre', 'diciembre']  # 4T\n",
    "]\n",
    "\n",
    "# Accedemos al 2º mes del primer trimestre. En este ejercicio y los 2siguientes aplicamos la misma lógica que\n",
    "# que argumentamos antes.\n",
    "\n",
    "#2ª mes del primer trimestre\n",
    "\n",
    "segundo_mes_primer_trimestre = trimestres[0][1]\n",
    "print(\"El segundo mes del primer trimestre es:\", segundo_mes_primer_trimestre)\n",
    "\n",
    "#Los meses del primer trimestre. Aqui como nos pregunta por los 3 meses no especificamos 0,1 o 2.\n",
    "meses_primer_trimestre = trimestres[0]\n",
    "print(\"Los meses del primer trimestre son:\", meses_primer_trimestre)\n",
    "\n",
    "#Septiembre y octubre. \n",
    "septiembre = trimestres[2][2]\n",
    "octubre = trimestres[3][0]\n",
    "print(\"Septiembre y octubre son:\", \"septiembre y octubre\")\n"
   ]
  },
  {
   "cell_type": "code",
   "execution_count": 21,
   "id": "d993517e",
   "metadata": {},
   "outputs": [
    {
     "name": "stdout",
     "output_type": "stream",
     "text": [
      "1.Cuántos números hay? 13\n",
      "2.Cuántas veces aparece el número 3? 3\n",
      "3.Cuántas veces aparece el número 3 y 4? 5\n",
      "4.Cuál es el número más grande de la lista? 9\n",
      "5.Cuál es los números más pequeños? [1, 2, 2]\n",
      "6.Cuál es el rango de esta lista? 8\n"
     ]
    }
   ],
   "source": [
    "#Ejercicio 3\n",
    "#Creamos una lista random de números desordenados\n",
    "numeros = [5, 2, 8, 3, 1, 4, 8, 6, 3, 9, 4, 2, 3]\n",
    "\n",
    "# Cuántos números hay? Aplicamos Len, que nos devuelve la longitud de la lista en este caso. \n",
    "cantidad_numeros = len(numeros)\n",
    "\n",
    "# Cuántas veces aparece el número 3? Aplicamos la función count que nos permite contar el \n",
    "# número o palabra que especifiquemos\n",
    "apariciones_numero_3 = numeros.count(3)\n",
    "\n",
    "# Cuántas veces aparece el número 3 y 4? Volvemos aplicar la función anterior, pero esta vez las sumamos.\n",
    "# para que nos diga el total de estos 2 números.\n",
    "apariciones_3_y_4 = numeros.count(3) + numeros.count(4)\n",
    "\n",
    "# Cuál es el número más grande de la lista? Usamos la función de Max. Esta función la podemos usar solo cuando los\n",
    "# elementos son del mismo tipo. \n",
    "numero_mas_grande = max(numeros)\n",
    "\n",
    "#Cuál es los números más pequeños? Usamos la función sorted, que nos devuelve una lista ordenada a partir de los argumentos\n",
    "numeros_mas_pequenos = sorted(numeros)[:3]\n",
    "\n",
    "#Cuál es el rango de esta lista? Buscamos el máximo y el mínimo, y lo restamos. \n",
    "rango_lista = max(numeros) - min(numeros)\n",
    "\n",
    "#Le damos a print para ver las respuestas\n",
    "print(\"1.Cuántos números hay?\", cantidad_numeros)\n",
    "print(\"2.Cuántas veces aparece el número 3?\", apariciones_numero_3)\n",
    "print(\"3.Cuántas veces aparece el número 3 y 4?\", apariciones_3_y_4)\n",
    "print(\"4.Cuál es el número más grande de la lista?\", numero_mas_grande)\n",
    "print(\"5.Cuál es los números más pequeños?\", numeros_mas_pequenos)\n",
    "print(\"6.Cuál es el rango de esta lista?\", rango_lista)\n"
   ]
  },
  {
   "cell_type": "code",
   "execution_count": 26,
   "id": "0e4a5e06",
   "metadata": {},
   "outputs": [
    {
     "name": "stdout",
     "output_type": "stream",
     "text": [
      "1.Añadir alguna fruta más {'Pomes': {'Qty': 5, '€': 0.42}, 'Peres': {'Qty': 3, '€': 0.66}, 'Mandarinas': {'Qty': 4, '€': 0.55}}\n",
      "2.Coste total de las peras? 1.98\n",
      "3.Calcular el total de frutas compradas? 12\n",
      "4.La fruta más cara? Peres\n"
     ]
    }
   ],
   "source": [
    "#Ejercicio 4\n",
    "# Copiamos el diccionario que nos brinda el ejercicio, que contiene los datos para hacer el ejercicio\n",
    "compra = {\"Pomes\": {\"Qty\": 5, \"€\": 0.42}, \"Peres\": {\"Qty\": 3, \"€\": 0.66}}\n",
    "\n",
    "# Añadir alguna fruta más. Agregamos la fruta mandaria al diccionario, indicando el precio y una cantidad.\n",
    "compra[\"Mandarinas\"] = {\"Qty\": 4, \"€\": 0.55}\n",
    "\n",
    "# Coste total de las peras? Multiplicamos la cantidad de peras por el coste unitario de cada pera.\n",
    "coste_total_peras = compra[\"Peres\"][\"Qty\"] * compra[\"Peres\"][\"€\"]\n",
    "\n",
    "# Calcular el total de frutas compradas? Sumamos todas las futas en la primera parte del código. Usamos la sintaxis\n",
    "#for..in para recorrer toda la lista de la compra.\n",
    "total_frutas = sum(fruta[\"Qty\"] for fruta in compra.values())\n",
    "\n",
    "# La fruta más cara?\n",
    "fruta_mas_cara = max(compra, key=lambda x: compra[x][\"€\"])\n",
    "\n",
    "#Le damos a print para ver las respuestas\n",
    "print(\"1.Añadir alguna fruta más\", compra)\n",
    "print(\"2.Coste total de las peras?\", coste_total_peras)\n",
    "print(\"3.Calcular el total de frutas compradas?\", total_frutas)\n",
    "print(\"4.La fruta más cara?\", fruta_mas_cara)\n"
   ]
  },
  {
   "cell_type": "code",
   "execution_count": null,
   "id": "b95bdee4",
   "metadata": {},
   "outputs": [],
   "source": []
  }
 ],
 "metadata": {
  "kernelspec": {
   "display_name": "Python 3 (ipykernel)",
   "language": "python",
   "name": "python3"
  },
  "language_info": {
   "codemirror_mode": {
    "name": "ipython",
    "version": 3
   },
   "file_extension": ".py",
   "mimetype": "text/x-python",
   "name": "python",
   "nbconvert_exporter": "python",
   "pygments_lexer": "ipython3",
   "version": "3.9.13"
  }
 },
 "nbformat": 4,
 "nbformat_minor": 5
}
